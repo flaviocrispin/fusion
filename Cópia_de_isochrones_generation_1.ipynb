{
  "nbformat": 4,
  "nbformat_minor": 0,
  "metadata": {
    "colab": {
      "name": "Cópia de isochrones_generation_1.ipynb",
      "provenance": [],
      "collapsed_sections": []
    },
    "kernelspec": {
      "name": "python3",
      "display_name": "Python 3"
    },
    "accelerator": "GPU",
    "widgets": {
      "application/vnd.jupyter.widget-state+json": {
        "3fef2907e81b406286558b9b5681b5f0": {
          "model_module": "@jupyter-widgets/controls",
          "model_name": "HBoxModel",
          "state": {
            "_view_name": "HBoxView",
            "_dom_classes": [],
            "_model_name": "HBoxModel",
            "_view_module": "@jupyter-widgets/controls",
            "_model_module_version": "1.5.0",
            "_view_count": null,
            "_view_module_version": "1.5.0",
            "box_style": "",
            "layout": "IPY_MODEL_53ab017106bf49afa61e8240c43c7d4c",
            "_model_module": "@jupyter-widgets/controls",
            "children": [
              "IPY_MODEL_891cf13ffb4346d49ecfbba78f877501",
              "IPY_MODEL_015447a913d24d6facadb08c4b1b91f9"
            ]
          }
        },
        "53ab017106bf49afa61e8240c43c7d4c": {
          "model_module": "@jupyter-widgets/base",
          "model_name": "LayoutModel",
          "state": {
            "_view_name": "LayoutView",
            "grid_template_rows": null,
            "right": null,
            "justify_content": null,
            "_view_module": "@jupyter-widgets/base",
            "overflow": null,
            "_model_module_version": "1.2.0",
            "_view_count": null,
            "flex_flow": null,
            "width": null,
            "min_width": null,
            "border": null,
            "align_items": null,
            "bottom": null,
            "_model_module": "@jupyter-widgets/base",
            "top": null,
            "grid_column": null,
            "overflow_y": null,
            "overflow_x": null,
            "grid_auto_flow": null,
            "grid_area": null,
            "grid_template_columns": null,
            "flex": null,
            "_model_name": "LayoutModel",
            "justify_items": null,
            "grid_row": null,
            "max_height": null,
            "align_content": null,
            "visibility": null,
            "align_self": null,
            "height": null,
            "min_height": null,
            "padding": null,
            "grid_auto_rows": null,
            "grid_gap": null,
            "max_width": null,
            "order": null,
            "_view_module_version": "1.2.0",
            "grid_template_areas": null,
            "object_position": null,
            "object_fit": null,
            "grid_auto_columns": null,
            "margin": null,
            "display": null,
            "left": null
          }
        },
        "891cf13ffb4346d49ecfbba78f877501": {
          "model_module": "@jupyter-widgets/controls",
          "model_name": "FloatProgressModel",
          "state": {
            "_view_name": "ProgressView",
            "style": "IPY_MODEL_6c808b31d1cc4432b2e29179c3995f43",
            "_dom_classes": [],
            "description": " 31%",
            "_model_name": "FloatProgressModel",
            "bar_style": "",
            "max": 1253,
            "_view_module": "@jupyter-widgets/controls",
            "_model_module_version": "1.5.0",
            "value": 388,
            "_view_count": null,
            "_view_module_version": "1.5.0",
            "orientation": "horizontal",
            "min": 0,
            "description_tooltip": null,
            "_model_module": "@jupyter-widgets/controls",
            "layout": "IPY_MODEL_a6d8bdb5144d4f019035638e5a890472"
          }
        },
        "015447a913d24d6facadb08c4b1b91f9": {
          "model_module": "@jupyter-widgets/controls",
          "model_name": "HTMLModel",
          "state": {
            "_view_name": "HTMLView",
            "style": "IPY_MODEL_0bfa33a3f81342de9e334a12cd653fcf",
            "_dom_classes": [],
            "description": "",
            "_model_name": "HTMLModel",
            "placeholder": "​",
            "_view_module": "@jupyter-widgets/controls",
            "_model_module_version": "1.5.0",
            "value": " 388/1253 [2:47:40&lt;3:32:33, 14.74s/it]",
            "_view_count": null,
            "_view_module_version": "1.5.0",
            "description_tooltip": null,
            "_model_module": "@jupyter-widgets/controls",
            "layout": "IPY_MODEL_5f2c93866ff6400b966884174994af01"
          }
        },
        "6c808b31d1cc4432b2e29179c3995f43": {
          "model_module": "@jupyter-widgets/controls",
          "model_name": "ProgressStyleModel",
          "state": {
            "_view_name": "StyleView",
            "_model_name": "ProgressStyleModel",
            "description_width": "initial",
            "_view_module": "@jupyter-widgets/base",
            "_model_module_version": "1.5.0",
            "_view_count": null,
            "_view_module_version": "1.2.0",
            "bar_color": null,
            "_model_module": "@jupyter-widgets/controls"
          }
        },
        "a6d8bdb5144d4f019035638e5a890472": {
          "model_module": "@jupyter-widgets/base",
          "model_name": "LayoutModel",
          "state": {
            "_view_name": "LayoutView",
            "grid_template_rows": null,
            "right": null,
            "justify_content": null,
            "_view_module": "@jupyter-widgets/base",
            "overflow": null,
            "_model_module_version": "1.2.0",
            "_view_count": null,
            "flex_flow": null,
            "width": null,
            "min_width": null,
            "border": null,
            "align_items": null,
            "bottom": null,
            "_model_module": "@jupyter-widgets/base",
            "top": null,
            "grid_column": null,
            "overflow_y": null,
            "overflow_x": null,
            "grid_auto_flow": null,
            "grid_area": null,
            "grid_template_columns": null,
            "flex": null,
            "_model_name": "LayoutModel",
            "justify_items": null,
            "grid_row": null,
            "max_height": null,
            "align_content": null,
            "visibility": null,
            "align_self": null,
            "height": null,
            "min_height": null,
            "padding": null,
            "grid_auto_rows": null,
            "grid_gap": null,
            "max_width": null,
            "order": null,
            "_view_module_version": "1.2.0",
            "grid_template_areas": null,
            "object_position": null,
            "object_fit": null,
            "grid_auto_columns": null,
            "margin": null,
            "display": null,
            "left": null
          }
        },
        "0bfa33a3f81342de9e334a12cd653fcf": {
          "model_module": "@jupyter-widgets/controls",
          "model_name": "DescriptionStyleModel",
          "state": {
            "_view_name": "StyleView",
            "_model_name": "DescriptionStyleModel",
            "description_width": "",
            "_view_module": "@jupyter-widgets/base",
            "_model_module_version": "1.5.0",
            "_view_count": null,
            "_view_module_version": "1.2.0",
            "_model_module": "@jupyter-widgets/controls"
          }
        },
        "5f2c93866ff6400b966884174994af01": {
          "model_module": "@jupyter-widgets/base",
          "model_name": "LayoutModel",
          "state": {
            "_view_name": "LayoutView",
            "grid_template_rows": null,
            "right": null,
            "justify_content": null,
            "_view_module": "@jupyter-widgets/base",
            "overflow": null,
            "_model_module_version": "1.2.0",
            "_view_count": null,
            "flex_flow": null,
            "width": null,
            "min_width": null,
            "border": null,
            "align_items": null,
            "bottom": null,
            "_model_module": "@jupyter-widgets/base",
            "top": null,
            "grid_column": null,
            "overflow_y": null,
            "overflow_x": null,
            "grid_auto_flow": null,
            "grid_area": null,
            "grid_template_columns": null,
            "flex": null,
            "_model_name": "LayoutModel",
            "justify_items": null,
            "grid_row": null,
            "max_height": null,
            "align_content": null,
            "visibility": null,
            "align_self": null,
            "height": null,
            "min_height": null,
            "padding": null,
            "grid_auto_rows": null,
            "grid_gap": null,
            "max_width": null,
            "order": null,
            "_view_module_version": "1.2.0",
            "grid_template_areas": null,
            "object_position": null,
            "object_fit": null,
            "grid_auto_columns": null,
            "margin": null,
            "display": null,
            "left": null
          }
        }
      }
    }
  },
  "cells": [
    {
      "cell_type": "code",
      "metadata": {
        "colab": {
          "base_uri": "https://localhost:8080/"
        },
        "id": "U5aUlR7Ao0W0",
        "outputId": "81cdb804-136e-4a88-907c-fff291fa5064"
      },
      "source": [
        "from google.colab import drive\r\n",
        "drive.mount('/content/drive')"
      ],
      "execution_count": 1,
      "outputs": [
        {
          "output_type": "stream",
          "text": [
            "Mounted at /content/drive\n"
          ],
          "name": "stdout"
        }
      ]
    },
    {
      "cell_type": "code",
      "metadata": {
        "id": "Wzcwt0Q4nhY_",
        "cellView": "form"
      },
      "source": [
        "#@markdown 0.0 instalar dependências\r\n",
        "!pip install rtree &> /dev/null\r\n",
        "!pip install geopandas &> /dev/null\r\n",
        "!pip install osmnx &> /dev/null\r\n",
        "# ERRO % pip install libspatialindex\r\n",
        "!pip install matplotlib==3.0.2 &> /dev/null"
      ],
      "execution_count": 3,
      "outputs": []
    },
    {
      "cell_type": "code",
      "metadata": {
        "id": "0BK1btfEXk2f",
        "cellView": "form"
      },
      "source": [
        "#@title IMPORTS\r\n",
        "import pandas as pd\r\n",
        "import numpy as np\r\n",
        "import geopandas as gpd\r\n",
        "import fiona\r\n",
        "import json\r\n",
        "import matplotlib.pyplot as plt\r\n",
        "from shapely.geometry import shape\r\n",
        "import networkx as nx\r\n",
        "import osmnx as ox\r\n",
        "from descartes import PolygonPatch\r\n",
        "from shapely.geometry import Point, LineString, Polygon\r\n",
        "import time\r\n",
        "import pyproj\r\n",
        "\r\n",
        "from shapely.ops import transform\r\n",
        "\r\n",
        "\r\n",
        "\r\n",
        "ox.config(log_console=True, use_cache=True)"
      ],
      "execution_count": 4,
      "outputs": []
    },
    {
      "cell_type": "code",
      "metadata": {
        "id": "xZjWnHVVqJnD",
        "cellView": "form"
      },
      "source": [
        "#@title  PREPARATION OF DATA\r\n",
        "\r\n",
        "import pandas as pd\r\n",
        "import numpy as np\r\n",
        "import geopandas as gpd\r\n",
        "import fiona\r\n",
        "import json\r\n",
        "import matplotlib.pyplot as plt\r\n",
        "from shapely.geometry import shape\r\n",
        "import networkx as nx\r\n",
        "import osmnx as ox\r\n",
        "from descartes import PolygonPatch\r\n",
        "from shapely.geometry import Point, LineString, Polygon\r\n",
        "import time\r\n",
        "import pyproj\r\n",
        "\r\n",
        "from shapely.ops import transform\r\n",
        "\r\n",
        "\r\n",
        "\r\n",
        "ox.config(log_console=True, use_cache=True)\r\n",
        "\r\n",
        "df_master = pd.read_csv('drive/My Drive/Colab Notebooks/express/df_master.csv', sep=';')\r\n",
        "def utm_zone(lat,lon):\r\n",
        "   return int(32700-round((45+lat)/90,0)*100+round((183+lon)/6,0))\r\n",
        "\r\n",
        "# função de montagem de isócrinas. ((lat,long) -> shapely.Polygon)\r\n",
        "def build_iso(ponto, network_type='drive', trip_time=10, travel_speed=20, infill=True):\r\n",
        "    #ponto = (cep_interlagoslat, long)\r\n",
        "    \r\n",
        "    CRS = pyproj.CRS(f\"EPSG:{utm_zone(ponto[0], ponto[1])}\")\r\n",
        "    WSG84 = pyproj.CRS(\"EPSG:4326\");\r\n",
        "\r\n",
        "    G = ox.graph.graph_from_point(center_point=ponto, dist=1500, network_type=network_type, dist_type='bbox')\r\n",
        "\r\n",
        "    gdf_nodes = ox.graph_to_gdfs(G, edges=False)\r\n",
        "    x, y = gdf_nodes['geometry'].unary_union.centroid.xy\r\n",
        "    center_node = ox.get_nearest_node(G, (y[0], x[0]))\r\n",
        "    #center_node = ox.get_nearest_node(G, (ponto))\r\n",
        "    G = ox.project_graph(G, to_crs=CRS)\r\n",
        "    meters_per_minute = travel_speed * 1000 / 60 #km per hour to m per minute\r\n",
        "    for u, v, k, data in G.edges(data=True, keys=True):\r\n",
        "        data['time'] = data['length'] / meters_per_minute\r\n",
        "\r\n",
        "    \r\n",
        "    def make_iso_polys(G, edge_buff=50, node_buff=75, trip_time=10, infill=False):\r\n",
        "\r\n",
        "#           isochrone_polys = []\r\n",
        "          subgraph = nx.ego_graph(G, center_node, radius=trip_time, distance='time')\r\n",
        "\r\n",
        "          node_points = [Point((data['x'], data['y'])) for node, data in subgraph.nodes(data=True)]\r\n",
        "          nodes_gdf = gpd.GeoDataFrame({'id': subgraph.nodes()}, geometry=node_points)\r\n",
        "          nodes_gdf = nodes_gdf.set_index('id')\r\n",
        "\r\n",
        "          edge_lines = []\r\n",
        "          for n_fr, n_to in subgraph.edges():\r\n",
        "              f = nodes_gdf.loc[n_fr].geometry\r\n",
        "              t = nodes_gdf.loc[n_to].geometry\r\n",
        "              edge_lookup = G.get_edge_data(n_fr, n_to)[0].get('geometry',  LineString([f,t]))\r\n",
        "              edge_lines.append(edge_lookup)\r\n",
        "\r\n",
        "          n = nodes_gdf.buffer(node_buff).geometry\r\n",
        "          e = gpd.GeoSeries(edge_lines).buffer(edge_buff).geometry\r\n",
        "          all_gs = list(n) + list(e)\r\n",
        "          new_iso = gpd.GeoSeries(all_gs).unary_union\r\n",
        "\r\n",
        "          # try to fill in surrounded areas so shapes will appear solid and blocks without white space inside them\r\n",
        "          if infill:\r\n",
        "                return Polygon(new_iso.exterior)\r\n",
        "#               new_iso = Polygon(new_iso.exterior)\r\n",
        "#           isochrone_polys.append(new_iso)\r\n",
        "#           return isochrone_polys\r\n",
        "          return new_iso\r\n",
        "\r\n",
        "    res = make_iso_polys(G, trip_time=trip_time, infill=infill)\r\n",
        "\r\n",
        "    project = pyproj.Transformer.from_crs(CRS, WSG84, always_xy=True).transform\r\n",
        "    poly = transform(project, res)\r\n",
        "    return poly\r\n",
        "    isochrone_polys = make_iso_polys(G, edge_buff=25, node_buff=0, infill=True)\r\n",
        "    fig, ax = ox.plot_graph(G, show=False, close=False, edge_color='#999999', edge_alpha=0.2,\r\n",
        "                            node_size=0, bgcolor='k', figsize=(15,15))\r\n",
        "    for polygon, fc in zip(isochrone_polys, iso_colors):\r\n",
        "        patch = PolygonPatch(polygon, fc=fc, ec='none', alpha=0.6, zorder=-1)\r\n",
        "        ax.add_patch(patch)\r\n",
        "\r\n",
        "    plt.show()    \r\n",
        "\r\n",
        "\r\n",
        "# recebe e itera um DF, retorna o mesmo DF com coluna \"ISOCHRON\",\r\n",
        "def build_iso_from_dataframe(df, col_lat, col_lon, save_intermediate_steps=True, save_at=100, filename=\"iso_\"):\r\n",
        "  from tqdm.notebook import tqdm\r\n",
        "\r\n",
        "  new_gdf = []\r\n",
        "  save_counter = 0\r\n",
        "\r\n",
        "  for index, row in tqdm(df.iterrows(), total=df.shape[0]):\r\n",
        "        save_counter += 1\r\n",
        "        ponto = (row[col_lat], row[col_lon])\r\n",
        "        row['geometry'] = build_iso(ponto)\r\n",
        "        \r\n",
        "        if(save_intermediate_steps and (save_counter % save_at == 0)):\r\n",
        "            gpd.GeoDataFrame(new_gdf).to_file(f\"drive/My Drive/Colab Notebooks/express/shapefiles_dataframe/{filename}_iter{save_counter}.shp\")\r\n",
        "            print(f'salvando {save_counter}')\r\n",
        "        #row['geometry'] = row['geometry'].apply(wkt.loads)\r\n",
        "        \r\n",
        "        new_gdf.append(row)\r\n",
        "\r\n",
        "\r\n",
        "  if(save_intermediate_steps):\r\n",
        "            gpd.GeoDataFrame(new_gdf).to_file(f\"drive/My Drive/Colab Notebooks/express/shapefiles_dataframe/{filename}_FINAL.shp\")\r\n",
        "  return gpd.GeoDataFrame(new_gdf)\r\n",
        "\r\n",
        "#  return isochron"
      ],
      "execution_count": null,
      "outputs": []
    },
    {
      "cell_type": "code",
      "metadata": {
        "colab": {
          "base_uri": "https://localhost:8080/",
          "height": 102,
          "referenced_widgets": [
            "3fef2907e81b406286558b9b5681b5f0",
            "53ab017106bf49afa61e8240c43c7d4c",
            "891cf13ffb4346d49ecfbba78f877501",
            "015447a913d24d6facadb08c4b1b91f9",
            "6c808b31d1cc4432b2e29179c3995f43",
            "a6d8bdb5144d4f019035638e5a890472",
            "0bfa33a3f81342de9e334a12cd653fcf",
            "5f2c93866ff6400b966884174994af01"
          ]
        },
        "cellView": "form",
        "id": "bYOd1i1EOdW3",
        "outputId": "220577b3-989a-4e52-ef6b-597801ff9b2c"
      },
      "source": [
        "inicio = 10747 #@param {type: 'number'}\r\n",
        "fim =  12000#@param {type: 'number'}\r\n",
        "\r\n",
        "df_slice = df_master.iloc[inicio:fim]\r\n",
        "\r\n",
        "col_lat = 'LAT'\r\n",
        "col_lon = 'LONG'\r\n",
        "\r\n",
        "isocrona_bairros = build_iso_from_dataframe(df_slice, col_lat, col_lon, filename=f'iso_{inicio}_{fim}')"
      ],
      "execution_count": null,
      "outputs": [
        {
          "output_type": "display_data",
          "data": {
            "application/vnd.jupyter.widget-view+json": {
              "model_id": "3fef2907e81b406286558b9b5681b5f0",
              "version_minor": 0,
              "version_major": 2
            },
            "text/plain": [
              "HBox(children=(FloatProgress(value=0.0, max=1253.0), HTML(value='')))"
            ]
          },
          "metadata": {
            "tags": []
          }
        },
        {
          "output_type": "stream",
          "text": [
            "salvando 100\n",
            "salvando 200\n",
            "salvando 300\n"
          ],
          "name": "stdout"
        }
      ]
    },
    {
      "cell_type": "code",
      "metadata": {
        "id": "-22ySfrNOcz5"
      },
      "source": [
        "def generate_overlay_dataframe (df_iso, df_sc):\r\n",
        "    from tqdm import trange\r\n",
        "    from shapely import wkt\r\n",
        "    \r\n",
        "    COLUNAS_SOMA = ['POP_QTY_census', 'RESD_QTY_census', 'HOUSE_QTY_census', 'APTM_QTY_census'] # add colunas aqui\r\n",
        "    COLUNAS_MEDIA = ['AVG_INCOME_census'] # add colunas aqui\r\n",
        "\r\n",
        "    results = []\r\n",
        "    # df_sc = df_sc[col]\r\n",
        "    df_iso = gpd.GeoDataFrame(df_iso, geometry='geometry', crs='EPSG:4674')\r\n",
        "    df_sc = gpd.GeoDataFrame(df_sc, geometry=gpd.points_from_xy(df_sc.LONG, df_sc.LAT), crs='EPSG:4674')\r\n",
        "    #df_sc =  gpd.GeoDataFrame(df_sc, geometry='geometry', crs='EPSG:4674')\r\n",
        "    df_sc1 = df_sc.set_index('CD_GEOCODI')\r\n",
        "\r\n",
        "    for index in trange(df_iso.shape[0]):\r\n",
        "        row = df_iso[df_iso.index == index]\r\n",
        "        df_tmp = gpd.overlay(df_sc,  row, how=\"intersection\")\r\n",
        "        dados = {}\r\n",
        "        for c in COLUNAS_SOMA:\r\n",
        "            dados[c] = df_tmp[c].sum()\r\n",
        "        for c in COLUNAS_MEDIA:\r\n",
        "            dados[c] = round(df_tmp[c].mean(), 2)\r\n",
        "        dados['CD_GEOCODI'] = row['CD_GEOCODI']\r\n",
        "        #dados['geometry'] = df_sc[df_sc['CD_GEOCODI'] == row['CD_GEOCODI']]\r\n",
        "        dados['geometry'] = df_sc1.loc[dados['CD_GEOCODI']]['geometry']\r\n",
        "        dados['PLNT_CD'] = row['PLNT_CD']\r\n",
        "        dados['LAT'] = row['LAT']\r\n",
        "        dados['LONG'] = row['LONG']\r\n",
        "        dados = gpd.GeoDataFrame(dados, geometry='geometry')\r\n",
        "        results.append(dados)\r\n",
        "        \r\n",
        "    results = gpd.GeoDataFrame(pd.concat(results))\r\n",
        "    \r\n",
        "    return results\r\n"
      ],
      "execution_count": 54,
      "outputs": []
    },
    {
      "cell_type": "code",
      "metadata": {
        "id": "qcEfmxmBaCWI",
        "cellView": "form"
      },
      "source": [
        "#@title load files\r\n",
        "df = gpd.read_file('/content/drive/MyDrive/Colab Notebooks/express/shapefiles_dataframe/iso_387_1000_iter100.shp', dtype={'CD_GEOCODI': 'object'})\r\n",
        "df_master = pd.read_csv('/content/drive/MyDrive/Colab Notebooks/express/df_union.csv', sep=';', dtype={'CD_GEOCODI': 'object'})\r\n",
        "#rais = pd.read_csv('/content/drive/MyDrive/Colab Notebooks/express/rais.csv')\r\n",
        "#df_bairros = pd.merge(bairros, rais, how='left', on='CD_GEOCODI')"
      ],
      "execution_count": 6,
      "outputs": []
    },
    {
      "cell_type": "code",
      "metadata": {
        "id": "FLxGCeWWp9R_"
      },
      "source": [
        "df['CD_GEOCODI'] = df['CD_GEOCODI'].astype(int).astype(str)"
      ],
      "execution_count": 11,
      "outputs": []
    },
    {
      "cell_type": "code",
      "metadata": {
        "colab": {
          "base_uri": "https://localhost:8080/",
          "height": 601
        },
        "id": "reDhHwNdauZC",
        "outputId": "5897a15a-e501-45b9-ad47-50799e93c5d3"
      },
      "source": [
        "dataframe_iso = generate_overlay_dataframe(df, df_master)\r\n",
        "dataframe_iso.head()"
      ],
      "execution_count": 55,
      "outputs": [
        {
          "output_type": "stream",
          "text": [
            "  0%|          | 0/99 [00:00<?, ?it/s]\n"
          ],
          "name": "stderr"
        },
        {
          "output_type": "error",
          "ename": "KeyError",
          "evalue": "ignored",
          "traceback": [
            "\u001b[0;31m---------------------------------------------------------------------------\u001b[0m",
            "\u001b[0;31mKeyError\u001b[0m                                  Traceback (most recent call last)",
            "\u001b[0;32m/usr/local/lib/python3.7/dist-packages/pandas/core/indexes/base.py\u001b[0m in \u001b[0;36mget_loc\u001b[0;34m(self, key, method, tolerance)\u001b[0m\n\u001b[1;32m   2897\u001b[0m             \u001b[0;32mtry\u001b[0m\u001b[0;34m:\u001b[0m\u001b[0;34m\u001b[0m\u001b[0;34m\u001b[0m\u001b[0m\n\u001b[0;32m-> 2898\u001b[0;31m                 \u001b[0;32mreturn\u001b[0m \u001b[0mself\u001b[0m\u001b[0;34m.\u001b[0m\u001b[0m_engine\u001b[0m\u001b[0;34m.\u001b[0m\u001b[0mget_loc\u001b[0m\u001b[0;34m(\u001b[0m\u001b[0mcasted_key\u001b[0m\u001b[0;34m)\u001b[0m\u001b[0;34m\u001b[0m\u001b[0;34m\u001b[0m\u001b[0m\n\u001b[0m\u001b[1;32m   2899\u001b[0m             \u001b[0;32mexcept\u001b[0m \u001b[0mKeyError\u001b[0m \u001b[0;32mas\u001b[0m \u001b[0merr\u001b[0m\u001b[0;34m:\u001b[0m\u001b[0;34m\u001b[0m\u001b[0;34m\u001b[0m\u001b[0m\n",
            "\u001b[0;32mpandas/_libs/index.pyx\u001b[0m in \u001b[0;36mpandas._libs.index.IndexEngine.get_loc\u001b[0;34m()\u001b[0m\n",
            "\u001b[0;32mpandas/_libs/index.pyx\u001b[0m in \u001b[0;36mpandas._libs.index.IndexEngine.get_loc\u001b[0;34m()\u001b[0m\n",
            "\u001b[0;32mpandas/_libs/hashtable_class_helper.pxi\u001b[0m in \u001b[0;36mpandas._libs.hashtable.PyObjectHashTable.get_item\u001b[0;34m()\u001b[0m\n",
            "\u001b[0;32mpandas/_libs/hashtable_class_helper.pxi\u001b[0m in \u001b[0;36mpandas._libs.hashtable.PyObjectHashTable.get_item\u001b[0;34m()\u001b[0m\n",
            "\u001b[0;31mKeyError\u001b[0m: 'CD_GEOCODI'",
            "\nThe above exception was the direct cause of the following exception:\n",
            "\u001b[0;31mKeyError\u001b[0m                                  Traceback (most recent call last)",
            "\u001b[0;32m<ipython-input-55-5b0e393f85fb>\u001b[0m in \u001b[0;36m<module>\u001b[0;34m()\u001b[0m\n\u001b[0;32m----> 1\u001b[0;31m \u001b[0mdataframe_iso\u001b[0m \u001b[0;34m=\u001b[0m \u001b[0mgenerate_overlay_dataframe\u001b[0m\u001b[0;34m(\u001b[0m\u001b[0mdf\u001b[0m\u001b[0;34m,\u001b[0m \u001b[0mdf_master\u001b[0m\u001b[0;34m)\u001b[0m\u001b[0;34m\u001b[0m\u001b[0;34m\u001b[0m\u001b[0m\n\u001b[0m\u001b[1;32m      2\u001b[0m \u001b[0mdataframe_iso\u001b[0m\u001b[0;34m.\u001b[0m\u001b[0mhead\u001b[0m\u001b[0;34m(\u001b[0m\u001b[0;34m)\u001b[0m\u001b[0;34m\u001b[0m\u001b[0;34m\u001b[0m\u001b[0m\n",
            "\u001b[0;32m<ipython-input-54-0a6b66e25802>\u001b[0m in \u001b[0;36mgenerate_overlay_dataframe\u001b[0;34m(df_iso, df_sc)\u001b[0m\n\u001b[1;32m     23\u001b[0m         \u001b[0mdados\u001b[0m\u001b[0;34m[\u001b[0m\u001b[0;34m'CD_GEOCODI'\u001b[0m\u001b[0;34m]\u001b[0m \u001b[0;34m=\u001b[0m \u001b[0mrow\u001b[0m\u001b[0;34m[\u001b[0m\u001b[0;34m'CD_GEOCODI'\u001b[0m\u001b[0;34m]\u001b[0m\u001b[0;34m\u001b[0m\u001b[0;34m\u001b[0m\u001b[0m\n\u001b[1;32m     24\u001b[0m         \u001b[0;31m#dados['geometry'] = df_sc[df_sc['CD_GEOCODI'] == row['CD_GEOCODI']]\u001b[0m\u001b[0;34m\u001b[0m\u001b[0;34m\u001b[0m\u001b[0;34m\u001b[0m\u001b[0m\n\u001b[0;32m---> 25\u001b[0;31m         \u001b[0mdados\u001b[0m\u001b[0;34m[\u001b[0m\u001b[0;34m'geometry'\u001b[0m\u001b[0;34m]\u001b[0m \u001b[0;34m=\u001b[0m \u001b[0mdf_sc1\u001b[0m\u001b[0;34m.\u001b[0m\u001b[0mloc\u001b[0m\u001b[0;34m[\u001b[0m\u001b[0mdf_tmp\u001b[0m\u001b[0;34m[\u001b[0m\u001b[0;34m'CD_GEOCODI'\u001b[0m\u001b[0;34m]\u001b[0m\u001b[0;34m]\u001b[0m\u001b[0;34m[\u001b[0m\u001b[0;34m'geometry'\u001b[0m\u001b[0;34m]\u001b[0m\u001b[0;34m\u001b[0m\u001b[0;34m\u001b[0m\u001b[0m\n\u001b[0m\u001b[1;32m     26\u001b[0m         \u001b[0mdados\u001b[0m\u001b[0;34m[\u001b[0m\u001b[0;34m'PLNT_CD'\u001b[0m\u001b[0;34m]\u001b[0m \u001b[0;34m=\u001b[0m \u001b[0mrow\u001b[0m\u001b[0;34m[\u001b[0m\u001b[0;34m'PLNT_CD'\u001b[0m\u001b[0;34m]\u001b[0m\u001b[0;34m\u001b[0m\u001b[0;34m\u001b[0m\u001b[0m\n\u001b[1;32m     27\u001b[0m         \u001b[0mdados\u001b[0m\u001b[0;34m[\u001b[0m\u001b[0;34m'LAT'\u001b[0m\u001b[0;34m]\u001b[0m \u001b[0;34m=\u001b[0m \u001b[0mrow\u001b[0m\u001b[0;34m[\u001b[0m\u001b[0;34m'LAT'\u001b[0m\u001b[0;34m]\u001b[0m\u001b[0;34m\u001b[0m\u001b[0;34m\u001b[0m\u001b[0m\n",
            "\u001b[0;32m/usr/local/lib/python3.7/dist-packages/geopandas/geodataframe.py\u001b[0m in \u001b[0;36m__getitem__\u001b[0;34m(self, key)\u001b[0m\n\u001b[1;32m    826\u001b[0m         \u001b[0mGeoDataFrame\u001b[0m\u001b[0;34m.\u001b[0m\u001b[0;34m\u001b[0m\u001b[0;34m\u001b[0m\u001b[0m\n\u001b[1;32m    827\u001b[0m         \"\"\"\n\u001b[0;32m--> 828\u001b[0;31m         \u001b[0mresult\u001b[0m \u001b[0;34m=\u001b[0m \u001b[0msuper\u001b[0m\u001b[0;34m(\u001b[0m\u001b[0mGeoDataFrame\u001b[0m\u001b[0;34m,\u001b[0m \u001b[0mself\u001b[0m\u001b[0;34m)\u001b[0m\u001b[0;34m.\u001b[0m\u001b[0m__getitem__\u001b[0m\u001b[0;34m(\u001b[0m\u001b[0mkey\u001b[0m\u001b[0;34m)\u001b[0m\u001b[0;34m\u001b[0m\u001b[0;34m\u001b[0m\u001b[0m\n\u001b[0m\u001b[1;32m    829\u001b[0m         \u001b[0mgeo_col\u001b[0m \u001b[0;34m=\u001b[0m \u001b[0mself\u001b[0m\u001b[0;34m.\u001b[0m\u001b[0m_geometry_column_name\u001b[0m\u001b[0;34m\u001b[0m\u001b[0;34m\u001b[0m\u001b[0m\n\u001b[1;32m    830\u001b[0m         \u001b[0;32mif\u001b[0m \u001b[0misinstance\u001b[0m\u001b[0;34m(\u001b[0m\u001b[0mresult\u001b[0m\u001b[0;34m,\u001b[0m \u001b[0mSeries\u001b[0m\u001b[0;34m)\u001b[0m \u001b[0;32mand\u001b[0m \u001b[0misinstance\u001b[0m\u001b[0;34m(\u001b[0m\u001b[0mresult\u001b[0m\u001b[0;34m.\u001b[0m\u001b[0mdtype\u001b[0m\u001b[0;34m,\u001b[0m \u001b[0mGeometryDtype\u001b[0m\u001b[0;34m)\u001b[0m\u001b[0;34m:\u001b[0m\u001b[0;34m\u001b[0m\u001b[0;34m\u001b[0m\u001b[0m\n",
            "\u001b[0;32m/usr/local/lib/python3.7/dist-packages/pandas/core/frame.py\u001b[0m in \u001b[0;36m__getitem__\u001b[0;34m(self, key)\u001b[0m\n\u001b[1;32m   2904\u001b[0m             \u001b[0;32mif\u001b[0m \u001b[0mself\u001b[0m\u001b[0;34m.\u001b[0m\u001b[0mcolumns\u001b[0m\u001b[0;34m.\u001b[0m\u001b[0mnlevels\u001b[0m \u001b[0;34m>\u001b[0m \u001b[0;36m1\u001b[0m\u001b[0;34m:\u001b[0m\u001b[0;34m\u001b[0m\u001b[0;34m\u001b[0m\u001b[0m\n\u001b[1;32m   2905\u001b[0m                 \u001b[0;32mreturn\u001b[0m \u001b[0mself\u001b[0m\u001b[0;34m.\u001b[0m\u001b[0m_getitem_multilevel\u001b[0m\u001b[0;34m(\u001b[0m\u001b[0mkey\u001b[0m\u001b[0;34m)\u001b[0m\u001b[0;34m\u001b[0m\u001b[0;34m\u001b[0m\u001b[0m\n\u001b[0;32m-> 2906\u001b[0;31m             \u001b[0mindexer\u001b[0m \u001b[0;34m=\u001b[0m \u001b[0mself\u001b[0m\u001b[0;34m.\u001b[0m\u001b[0mcolumns\u001b[0m\u001b[0;34m.\u001b[0m\u001b[0mget_loc\u001b[0m\u001b[0;34m(\u001b[0m\u001b[0mkey\u001b[0m\u001b[0;34m)\u001b[0m\u001b[0;34m\u001b[0m\u001b[0;34m\u001b[0m\u001b[0m\n\u001b[0m\u001b[1;32m   2907\u001b[0m             \u001b[0;32mif\u001b[0m \u001b[0mis_integer\u001b[0m\u001b[0;34m(\u001b[0m\u001b[0mindexer\u001b[0m\u001b[0;34m)\u001b[0m\u001b[0;34m:\u001b[0m\u001b[0;34m\u001b[0m\u001b[0;34m\u001b[0m\u001b[0m\n\u001b[1;32m   2908\u001b[0m                 \u001b[0mindexer\u001b[0m \u001b[0;34m=\u001b[0m \u001b[0;34m[\u001b[0m\u001b[0mindexer\u001b[0m\u001b[0;34m]\u001b[0m\u001b[0;34m\u001b[0m\u001b[0;34m\u001b[0m\u001b[0m\n",
            "\u001b[0;32m/usr/local/lib/python3.7/dist-packages/pandas/core/indexes/base.py\u001b[0m in \u001b[0;36mget_loc\u001b[0;34m(self, key, method, tolerance)\u001b[0m\n\u001b[1;32m   2898\u001b[0m                 \u001b[0;32mreturn\u001b[0m \u001b[0mself\u001b[0m\u001b[0;34m.\u001b[0m\u001b[0m_engine\u001b[0m\u001b[0;34m.\u001b[0m\u001b[0mget_loc\u001b[0m\u001b[0;34m(\u001b[0m\u001b[0mcasted_key\u001b[0m\u001b[0;34m)\u001b[0m\u001b[0;34m\u001b[0m\u001b[0;34m\u001b[0m\u001b[0m\n\u001b[1;32m   2899\u001b[0m             \u001b[0;32mexcept\u001b[0m \u001b[0mKeyError\u001b[0m \u001b[0;32mas\u001b[0m \u001b[0merr\u001b[0m\u001b[0;34m:\u001b[0m\u001b[0;34m\u001b[0m\u001b[0;34m\u001b[0m\u001b[0m\n\u001b[0;32m-> 2900\u001b[0;31m                 \u001b[0;32mraise\u001b[0m \u001b[0mKeyError\u001b[0m\u001b[0;34m(\u001b[0m\u001b[0mkey\u001b[0m\u001b[0;34m)\u001b[0m \u001b[0;32mfrom\u001b[0m \u001b[0merr\u001b[0m\u001b[0;34m\u001b[0m\u001b[0;34m\u001b[0m\u001b[0m\n\u001b[0m\u001b[1;32m   2901\u001b[0m \u001b[0;34m\u001b[0m\u001b[0m\n\u001b[1;32m   2902\u001b[0m         \u001b[0;32mif\u001b[0m \u001b[0mtolerance\u001b[0m \u001b[0;32mis\u001b[0m \u001b[0;32mnot\u001b[0m \u001b[0;32mNone\u001b[0m\u001b[0;34m:\u001b[0m\u001b[0;34m\u001b[0m\u001b[0;34m\u001b[0m\u001b[0m\n",
            "\u001b[0;31mKeyError\u001b[0m: 'CD_GEOCODI'"
          ]
        }
      ]
    },
    {
      "cell_type": "code",
      "metadata": {
        "colab": {
          "base_uri": "https://localhost:8080/",
          "height": 197
        },
        "id": "nLfO9sP4sK5K",
        "outputId": "214aab5c-c525-4075-aa51-413a8fc3a76a"
      },
      "source": [
        "dataframe_iso.head()"
      ],
      "execution_count": 44,
      "outputs": [
        {
          "output_type": "execute_result",
          "data": {
            "text/html": [
              "<div>\n",
              "<style scoped>\n",
              "    .dataframe tbody tr th:only-of-type {\n",
              "        vertical-align: middle;\n",
              "    }\n",
              "\n",
              "    .dataframe tbody tr th {\n",
              "        vertical-align: top;\n",
              "    }\n",
              "\n",
              "    .dataframe thead th {\n",
              "        text-align: right;\n",
              "    }\n",
              "</style>\n",
              "<table border=\"1\" class=\"dataframe\">\n",
              "  <thead>\n",
              "    <tr style=\"text-align: right;\">\n",
              "      <th></th>\n",
              "      <th>POP_QTY_census</th>\n",
              "      <th>RESD_QTY_census</th>\n",
              "      <th>HOUSE_QTY_census</th>\n",
              "      <th>APTM_QTY_census</th>\n",
              "      <th>AVG_INCOME_census</th>\n",
              "      <th>CD_GEOCODI</th>\n",
              "      <th>geometry</th>\n",
              "      <th>PLNT_CD</th>\n",
              "      <th>LAT</th>\n",
              "      <th>LONG</th>\n",
              "    </tr>\n",
              "  </thead>\n",
              "  <tbody>\n",
              "    <tr>\n",
              "      <th>0</th>\n",
              "      <td>29382.081415</td>\n",
              "      <td>9532.314116</td>\n",
              "      <td>8692.675483</td>\n",
              "      <td>96.907895</td>\n",
              "      <td>2.47</td>\n",
              "      <td>355030833000119</td>\n",
              "      <td>None</td>\n",
              "      <td>0.0</td>\n",
              "      <td>-23.615764</td>\n",
              "      <td>-46.415107</td>\n",
              "    </tr>\n",
              "    <tr>\n",
              "      <th>355030833000119</th>\n",
              "      <td>29382.081415</td>\n",
              "      <td>9532.314116</td>\n",
              "      <td>8692.675483</td>\n",
              "      <td>96.907895</td>\n",
              "      <td>2.47</td>\n",
              "      <td>NaN</td>\n",
              "      <td>POINT (-46.41474 -23.61627)</td>\n",
              "      <td>NaN</td>\n",
              "      <td>NaN</td>\n",
              "      <td>NaN</td>\n",
              "    </tr>\n",
              "    <tr>\n",
              "      <th>1</th>\n",
              "      <td>21827.077284</td>\n",
              "      <td>7130.360513</td>\n",
              "      <td>6454.570618</td>\n",
              "      <td>58.144737</td>\n",
              "      <td>2.35</td>\n",
              "      <td>355030833000114</td>\n",
              "      <td>None</td>\n",
              "      <td>0.0</td>\n",
              "      <td>-23.626657</td>\n",
              "      <td>-46.412780</td>\n",
              "    </tr>\n",
              "    <tr>\n",
              "      <th>355030833000114</th>\n",
              "      <td>21827.077284</td>\n",
              "      <td>7130.360513</td>\n",
              "      <td>6454.570618</td>\n",
              "      <td>58.144737</td>\n",
              "      <td>2.35</td>\n",
              "      <td>NaN</td>\n",
              "      <td>POINT (-46.41333 -23.62518)</td>\n",
              "      <td>NaN</td>\n",
              "      <td>NaN</td>\n",
              "      <td>NaN</td>\n",
              "    </tr>\n",
              "    <tr>\n",
              "      <th>2</th>\n",
              "      <td>124754.001775</td>\n",
              "      <td>39560.535326</td>\n",
              "      <td>37085.289504</td>\n",
              "      <td>3069.796407</td>\n",
              "      <td>2.86</td>\n",
              "      <td>355030833000088</td>\n",
              "      <td>None</td>\n",
              "      <td>0.0</td>\n",
              "      <td>-23.609674</td>\n",
              "      <td>-46.446783</td>\n",
              "    </tr>\n",
              "  </tbody>\n",
              "</table>\n",
              "</div>"
            ],
            "text/plain": [
              "                 POP_QTY_census  RESD_QTY_census  ...        LAT       LONG\n",
              "0                  29382.081415      9532.314116  ... -23.615764 -46.415107\n",
              "355030833000119    29382.081415      9532.314116  ...        NaN        NaN\n",
              "1                  21827.077284      7130.360513  ... -23.626657 -46.412780\n",
              "355030833000114    21827.077284      7130.360513  ...        NaN        NaN\n",
              "2                 124754.001775     39560.535326  ... -23.609674 -46.446783\n",
              "\n",
              "[5 rows x 10 columns]"
            ]
          },
          "metadata": {
            "tags": []
          },
          "execution_count": 44
        }
      ]
    },
    {
      "cell_type": "code",
      "metadata": {
        "id": "zyHrgBxIkKcJ"
      },
      "source": [
        "latitude = -23.508234\r\n",
        "longitude = -46.837325\r\n",
        "m = folium.Map (location = [latitude, longitude], zoom_start = 14)\r\n",
        "\r\n",
        "\r\n",
        "crs = {'init': 'epsg:4326'}\r\n",
        "#conc = pd.merge(data, tr_xy_sp, how='inner', on='ID_TRECHO')\r\n",
        "#conc = gpd.GeoDataFrame(df,  crs=crs, geometry='geometry')\r\n",
        "conc = gpd.GeoDataFrame(df, geometry='geometry', crs='EPSG:4674')\r\n",
        "# conc = conc.rename(columns={'TOTAL_GASTOS':'TOTAL_MENSAL_ALIM_HIG_LIMP'})\r\n",
        "# conc['PREDICT_MINI_MKT_ALL'] = conc['PREDICT_MINI_MKT_ALL']\r\n",
        "# conc['PREDICT_MKT'] = conc['PREDICT_MKT']\r\n",
        "# #conc['TOTAL_MENSAL_ALIM_HIG_LIMP'] = conc['TOTAL_MENSAL_ALIM_HIG_LIMP'].round(2)\r\n",
        "# #conc['PREDICT_FAT_MEDIO_MENSAL'] = conc['PREDICT_FAT_MEDIO_MENSAL'].round(2)\r\n",
        "\r\n",
        "\r\n",
        "tooltip=GeoJsonTooltip(\r\n",
        "      fields=['PREDICT'],\r\n",
        "      localize=True,\r\n",
        "      sticky=False,\r\n",
        "      labels=True, \r\n",
        "      \r\n",
        "      )\r\n",
        "\r\n",
        "style_function = lambda x: {'color': '#00000000','fillOpacity': '0.6', 'weight': 1, 'fillColor': \\\r\n",
        "            '#FFF7FBFF' if x['properties'][\"PREDICT\"] < 15000 \\\r\n",
        "       else '#ECE7F2FF' if 15000 < x['properties'][\"PREDICT\"]  < 20000 \\\r\n",
        "       else '#D0D1E6FF' if 20000 < x['properties'][\"PREDICT\"] < 25000 \\\r\n",
        "       else '#A6BDDBFF' if 25000 < x['properties'][\"PREDICT\"] < 30000 \\\r\n",
        "       else '#74A9CFFF' if 30000 < x['properties'][\"PREDICT\"] < 35000 \\\r\n",
        "       else '#3690C0FF' if 35000 < x['properties'][\"PREDICT\"] < 40000 \\\r\n",
        "       else '#0570B0FF' if 40000 < x['properties'][\"PREDICT\"] < 45000 \\\r\n",
        "       else '#045A8DFF' if 45000 < x['properties'][\"PREDICT\"] < 50000 \\\r\n",
        "       else '#023858FF'}\r\n",
        "\r\n",
        "geoj = folium.GeoJson(conc, tooltip=tooltip, style_function=style_function).add_to(m)"
      ],
      "execution_count": null,
      "outputs": []
    }
  ]
}